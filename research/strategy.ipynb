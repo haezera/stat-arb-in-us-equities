{
 "cells": [
  {
   "cell_type": "markdown",
   "id": "500fac73",
   "metadata": {},
   "source": [
    "The goal of this notebook is to create a class-based backtest which takes in a starting period and ending period, and then\n",
    "builds the strategy with the backtest for the entire universe available to us."
   ]
  }
 ],
 "metadata": {
  "language_info": {
   "name": "python"
  }
 },
 "nbformat": 4,
 "nbformat_minor": 5
}
